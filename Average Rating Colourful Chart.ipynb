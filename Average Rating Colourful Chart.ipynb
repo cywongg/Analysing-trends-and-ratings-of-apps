{
 "cells": [
  {
   "cell_type": "code",
   "execution_count": 1,
   "metadata": {},
   "outputs": [],
   "source": [
    "import pandas as pd"
   ]
  },
  {
   "cell_type": "code",
   "execution_count": 6,
   "metadata": {},
   "outputs": [
    {
     "data": {
      "text/html": [
       "<div>\n",
       "<style scoped>\n",
       "    .dataframe tbody tr th:only-of-type {\n",
       "        vertical-align: middle;\n",
       "    }\n",
       "\n",
       "    .dataframe tbody tr th {\n",
       "        vertical-align: top;\n",
       "    }\n",
       "\n",
       "    .dataframe thead th {\n",
       "        text-align: right;\n",
       "    }\n",
       "</style>\n",
       "<table border=\"1\" class=\"dataframe\">\n",
       "  <thead>\n",
       "    <tr style=\"text-align: right;\">\n",
       "      <th></th>\n",
       "      <th>review_id</th>\n",
       "      <th>title</th>\n",
       "      <th>author</th>\n",
       "      <th>author_url</th>\n",
       "      <th>version</th>\n",
       "      <th>rating</th>\n",
       "      <th>review</th>\n",
       "      <th>vote_count</th>\n",
       "      <th>app</th>\n",
       "      <th>Unnamed: 9</th>\n",
       "      <th>Unnamed: 10</th>\n",
       "      <th>Unnamed: 11</th>\n",
       "      <th>Unnamed: 12</th>\n",
       "      <th>Unnamed: 13</th>\n",
       "      <th>Unnamed: 14</th>\n",
       "      <th>Unnamed: 15</th>\n",
       "    </tr>\n",
       "  </thead>\n",
       "  <tbody>\n",
       "    <tr>\n",
       "      <td>0</td>\n",
       "      <td>5147101983</td>\n",
       "      <td>Irakli</td>\n",
       "      <td>Kashmir9024</td>\n",
       "      <td>https://itunes.apple.com/us/reviews/id890284778</td>\n",
       "      <td>5.139.0</td>\n",
       "      <td>5.0</td>\n",
       "      <td>?¤ï??¤ï??¤ï?</td>\n",
       "      <td>0</td>\n",
       "      <td>badoo</td>\n",
       "      <td>NaN</td>\n",
       "      <td>NaN</td>\n",
       "      <td>NaN</td>\n",
       "      <td>NaN</td>\n",
       "      <td>NaN</td>\n",
       "      <td>NaN</td>\n",
       "      <td>NaN</td>\n",
       "    </tr>\n",
       "    <tr>\n",
       "      <td>1</td>\n",
       "      <td>5147005518</td>\n",
       "      <td>Good</td>\n",
       "      <td>d.rorro</td>\n",
       "      <td>https://itunes.apple.com/us/reviews/id1097727744</td>\n",
       "      <td>5.139.0</td>\n",
       "      <td>5.0</td>\n",
       "      <td>Good</td>\n",
       "      <td>0</td>\n",
       "      <td>badoo</td>\n",
       "      <td>NaN</td>\n",
       "      <td>NaN</td>\n",
       "      <td>NaN</td>\n",
       "      <td>NaN</td>\n",
       "      <td>NaN</td>\n",
       "      <td>NaN</td>\n",
       "      <td>NaN</td>\n",
       "    </tr>\n",
       "    <tr>\n",
       "      <td>2</td>\n",
       "      <td>5146933464</td>\n",
       "      <td>Wahidiigff</td>\n",
       "      <td>wahidoooohhg</td>\n",
       "      <td>https://itunes.apple.com/us/reviews/id930155822</td>\n",
       "      <td>5.139.0</td>\n",
       "      <td>5.0</td>\n",
       "      <td>Bieen</td>\n",
       "      <td>0</td>\n",
       "      <td>badoo</td>\n",
       "      <td>NaN</td>\n",
       "      <td>NaN</td>\n",
       "      <td>NaN</td>\n",
       "      <td>NaN</td>\n",
       "      <td>NaN</td>\n",
       "      <td>NaN</td>\n",
       "      <td>NaN</td>\n",
       "    </tr>\n",
       "    <tr>\n",
       "      <td>3</td>\n",
       "      <td>5146868919</td>\n",
       "      <td>The best</td>\n",
       "      <td>jose@38</td>\n",
       "      <td>https://itunes.apple.com/us/reviews/id986627709</td>\n",
       "      <td>5.139.0</td>\n",
       "      <td>5.0</td>\n",
       "      <td>This is the best</td>\n",
       "      <td>0</td>\n",
       "      <td>badoo</td>\n",
       "      <td>NaN</td>\n",
       "      <td>NaN</td>\n",
       "      <td>NaN</td>\n",
       "      <td>NaN</td>\n",
       "      <td>NaN</td>\n",
       "      <td>NaN</td>\n",
       "      <td>NaN</td>\n",
       "    </tr>\n",
       "  </tbody>\n",
       "</table>\n",
       "</div>"
      ],
      "text/plain": [
       "    review_id       title        author  \\\n",
       "0  5147101983      Irakli   Kashmir9024   \n",
       "1  5147005518        Good       d.rorro   \n",
       "2  5146933464  Wahidiigff  wahidoooohhg   \n",
       "3  5146868919    The best       jose@38   \n",
       "\n",
       "                                         author_url  version  rating  \\\n",
       "0   https://itunes.apple.com/us/reviews/id890284778  5.139.0     5.0   \n",
       "1  https://itunes.apple.com/us/reviews/id1097727744  5.139.0     5.0   \n",
       "2   https://itunes.apple.com/us/reviews/id930155822  5.139.0     5.0   \n",
       "3   https://itunes.apple.com/us/reviews/id986627709  5.139.0     5.0   \n",
       "\n",
       "             review vote_count    app Unnamed: 9 Unnamed: 10 Unnamed: 11  \\\n",
       "0      ?¤ï??¤ï??¤ï?          0  badoo        NaN         NaN         NaN   \n",
       "1              Good          0  badoo        NaN         NaN         NaN   \n",
       "2             Bieen          0  badoo        NaN         NaN         NaN   \n",
       "3  This is the best          0  badoo        NaN         NaN         NaN   \n",
       "\n",
       "  Unnamed: 12 Unnamed: 13 Unnamed: 14  Unnamed: 15  \n",
       "0         NaN         NaN         NaN          NaN  \n",
       "1         NaN         NaN         NaN          NaN  \n",
       "2         NaN         NaN         NaN          NaN  \n",
       "3         NaN         NaN         NaN          NaN  "
      ]
     },
     "execution_count": 6,
     "metadata": {},
     "output_type": "execute_result"
    }
   ],
   "source": [
    "#Load data\n",
    "reviews=pd.read_csv(\"C:\\\\Users\\\\user\\\\Desktop\\\\allreviews.csv\",encoding='latin1')\n",
    "#show a few lines\n",
    "reviews.head(4)"
   ]
  },
  {
   "cell_type": "code",
   "execution_count": 7,
   "metadata": {},
   "outputs": [],
   "source": [
    "import matplotlib.pyplot as plot\n",
    "plot.show()"
   ]
  },
  {
   "cell_type": "code",
   "execution_count": 21,
   "metadata": {},
   "outputs": [
    {
     "data": {
      "text/html": [
       "<div>\n",
       "<style scoped>\n",
       "    .dataframe tbody tr th:only-of-type {\n",
       "        vertical-align: middle;\n",
       "    }\n",
       "\n",
       "    .dataframe tbody tr th {\n",
       "        vertical-align: top;\n",
       "    }\n",
       "\n",
       "    .dataframe thead th {\n",
       "        text-align: right;\n",
       "    }\n",
       "</style>\n",
       "<table border=\"1\" class=\"dataframe\">\n",
       "  <thead>\n",
       "    <tr style=\"text-align: right;\">\n",
       "      <th></th>\n",
       "      <th>rating</th>\n",
       "    </tr>\n",
       "    <tr>\n",
       "      <th>app</th>\n",
       "      <th></th>\n",
       "    </tr>\n",
       "  </thead>\n",
       "  <tbody>\n",
       "    <tr>\n",
       "      <td>badoo</td>\n",
       "      <td>4.605932</td>\n",
       "    </tr>\n",
       "    <tr>\n",
       "      <td>cmb</td>\n",
       "      <td>2.407332</td>\n",
       "    </tr>\n",
       "    <tr>\n",
       "      <td>hinge</td>\n",
       "      <td>2.282609</td>\n",
       "    </tr>\n",
       "    <tr>\n",
       "      <td>tinder</td>\n",
       "      <td>1.719124</td>\n",
       "    </tr>\n",
       "    <tr>\n",
       "      <td>eharmony</td>\n",
       "      <td>1.459677</td>\n",
       "    </tr>\n",
       "  </tbody>\n",
       "</table>\n",
       "</div>"
      ],
      "text/plain": [
       "            rating\n",
       "app               \n",
       "badoo     4.605932\n",
       "cmb       2.407332\n",
       "hinge     2.282609\n",
       "tinder    1.719124\n",
       "eharmony  1.459677"
      ]
     },
     "execution_count": 21,
     "metadata": {},
     "output_type": "execute_result"
    }
   ],
   "source": [
    "#average rating\n",
    "reviews=pd.pivot_table(reviews,values=[\"rating\"],index=[\"app\"],aggfunc='mean')\n",
    "reviews.sort_values(by=[\"rating\"],ascending=False)"
   ]
  },
  {
   "cell_type": "code",
   "execution_count": 47,
   "metadata": {},
   "outputs": [],
   "source": [
    "reviews_y=[4.605932,2.407332,2.282609,1.719124,1.459677]\n",
    "reviews_bars=['Badoo','CMB','Hinge','Tinder','eharmony']"
   ]
  },
  {
   "cell_type": "code",
   "execution_count": 52,
   "metadata": {},
   "outputs": [
    {
     "data": {
      "text/plain": [
       "Text(0.5, 1.0, 'Average Ratings of 5 Selected Dating Apps')"
      ]
     },
     "execution_count": 52,
     "metadata": {},
     "output_type": "execute_result"
    },
    {
     "data": {
      "image/png": "[encoded data removed]",
      "text/plain": [
       "<Figure size 432x288 with 1 Axes>"
      ]
     },
     "metadata": {
      "needs_background": "light"
     },
     "output_type": "display_data"
    }
   ],
   "source": [
    "plot.barh(reviews_bars,reviews_y,color=['red','orange','yellow','purple','green'])\n",
    "plot.title('Average Ratings of 5 Selected Dating Apps')"
   ]
  },
  {
   "cell_type": "code",
   "execution_count": null,
   "metadata": {},
   "outputs": [],
   "source": []
  }
 ],
 "metadata": {
  "kernelspec": {
   "display_name": "Python 3",
   "language": "python",
   "name": "python3"
  },
  "language_info": {
   "codemirror_mode": {
    "name": "ipython",
    "version": 3
   },
   "file_extension": ".py",
   "mimetype": "text/x-python",
   "name": "python",
   "nbconvert_exporter": "python",
   "pygments_lexer": "ipython3",
   "version": "3.7.4"
  }
 },
 "nbformat": 4,
 "nbformat_minor": 2
}
