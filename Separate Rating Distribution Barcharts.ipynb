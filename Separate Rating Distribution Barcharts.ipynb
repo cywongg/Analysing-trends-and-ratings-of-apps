{
 "cells": [
  {
   "cell_type": "code",
   "execution_count": 20,
   "metadata": {},
   "outputs": [],
   "source": [
    "import pandas as pd\n",
    "#Load data\n",
    "ehar=pd.read_csv('C:\\\\Users\\\\user\\\\Desktop\\\\eharmonyreview.csv',encoding='latin1')\n",
    "#show a few lines"
   ]
  },
  {
   "cell_type": "code",
   "execution_count": 21,
   "metadata": {},
   "outputs": [
    {
     "data": {
      "text/html": [
       "<div>\n",
       "<style scoped>\n",
       "    .dataframe tbody tr th:only-of-type {\n",
       "        vertical-align: middle;\n",
       "    }\n",
       "\n",
       "    .dataframe tbody tr th {\n",
       "        vertical-align: top;\n",
       "    }\n",
       "\n",
       "    .dataframe thead th {\n",
       "        text-align: right;\n",
       "    }\n",
       "</style>\n",
       "<table border=\"1\" class=\"dataframe\">\n",
       "  <thead>\n",
       "    <tr style=\"text-align: right;\">\n",
       "      <th></th>\n",
       "      <th>review_id</th>\n",
       "      <th>title</th>\n",
       "      <th>author</th>\n",
       "      <th>author_url</th>\n",
       "      <th>version</th>\n",
       "      <th>rating</th>\n",
       "      <th>review</th>\n",
       "      <th>vote_count</th>\n",
       "      <th>Unnamed: 8</th>\n",
       "      <th>Unnamed: 9</th>\n",
       "      <th>Unnamed: 10</th>\n",
       "      <th>Unnamed: 11</th>\n",
       "      <th>Unnamed: 12</th>\n",
       "      <th>Unnamed: 13</th>\n",
       "      <th>Unnamed: 14</th>\n",
       "      <th>Unnamed: 15</th>\n",
       "    </tr>\n",
       "  </thead>\n",
       "  <tbody>\n",
       "    <tr>\n",
       "      <td>0</td>\n",
       "      <td>5146890390</td>\n",
       "      <td>Premium member crap</td>\n",
       "      <td>ashleyisannoyed</td>\n",
       "      <td>https://itunes.apple.com/us/reviews/id401327308</td>\n",
       "      <td>8.0.2</td>\n",
       "      <td>2</td>\n",
       "      <td>I dont like that you have to become a premium ...</td>\n",
       "      <td>0</td>\n",
       "      <td>NaN</td>\n",
       "      <td>NaN</td>\n",
       "      <td>NaN</td>\n",
       "      <td>NaN</td>\n",
       "      <td>NaN</td>\n",
       "      <td>NaN</td>\n",
       "      <td>NaN</td>\n",
       "      <td>NaN</td>\n",
       "    </tr>\n",
       "    <tr>\n",
       "      <td>1</td>\n",
       "      <td>5139675356</td>\n",
       "      <td>Nice new profile...recruit people in my area</td>\n",
       "      <td>Ksand2</td>\n",
       "      <td>https://itunes.apple.com/us/reviews/id131388416</td>\n",
       "      <td>8.0.2</td>\n",
       "      <td>3</td>\n",
       "      <td>I like the new app....recruit more people and ...</td>\n",
       "      <td>0</td>\n",
       "      <td>NaN</td>\n",
       "      <td>NaN</td>\n",
       "      <td>NaN</td>\n",
       "      <td>NaN</td>\n",
       "      <td>NaN</td>\n",
       "      <td>NaN</td>\n",
       "      <td>NaN</td>\n",
       "      <td>NaN</td>\n",
       "    </tr>\n",
       "    <tr>\n",
       "      <td>2</td>\n",
       "      <td>5139511925</td>\n",
       "      <td>Very bad.</td>\n",
       "      <td>Tabbtastic</td>\n",
       "      <td>https://itunes.apple.com/us/reviews/id607793554</td>\n",
       "      <td>8.0.2</td>\n",
       "      <td>1</td>\n",
       "      <td>This app is useless. Literally no valuable mat...</td>\n",
       "      <td>0</td>\n",
       "      <td>NaN</td>\n",
       "      <td>NaN</td>\n",
       "      <td>NaN</td>\n",
       "      <td>NaN</td>\n",
       "      <td>NaN</td>\n",
       "      <td>NaN</td>\n",
       "      <td>NaN</td>\n",
       "      <td>NaN</td>\n",
       "    </tr>\n",
       "    <tr>\n",
       "      <td>3</td>\n",
       "      <td>5139300649</td>\n",
       "      <td>It?s just getting worse</td>\n",
       "      <td>serendipitythatsit</td>\n",
       "      <td>https://itunes.apple.com/us/reviews/id627123190</td>\n",
       "      <td>8.0.2</td>\n",
       "      <td>1</td>\n",
       "      <td>With the new update Eharmony went from bad to ...</td>\n",
       "      <td>1</td>\n",
       "      <td>NaN</td>\n",
       "      <td>NaN</td>\n",
       "      <td>NaN</td>\n",
       "      <td>NaN</td>\n",
       "      <td>NaN</td>\n",
       "      <td>NaN</td>\n",
       "      <td>NaN</td>\n",
       "      <td>NaN</td>\n",
       "    </tr>\n",
       "  </tbody>\n",
       "</table>\n",
       "</div>"
      ],
      "text/plain": [
       "    review_id                                         title  \\\n",
       "0  5146890390                           Premium member crap   \n",
       "1  5139675356  Nice new profile...recruit people in my area   \n",
       "2  5139511925                                     Very bad.   \n",
       "3  5139300649                      It?s just getting worse   \n",
       "\n",
       "               author                                       author_url  \\\n",
       "0     ashleyisannoyed  https://itunes.apple.com/us/reviews/id401327308   \n",
       "1              Ksand2  https://itunes.apple.com/us/reviews/id131388416   \n",
       "2          Tabbtastic  https://itunes.apple.com/us/reviews/id607793554   \n",
       "3  serendipitythatsit  https://itunes.apple.com/us/reviews/id627123190   \n",
       "\n",
       "  version  rating                                             review  \\\n",
       "0   8.0.2       2  I dont like that you have to become a premium ...   \n",
       "1   8.0.2       3  I like the new app....recruit more people and ...   \n",
       "2   8.0.2       1  This app is useless. Literally no valuable mat...   \n",
       "3   8.0.2       1  With the new update Eharmony went from bad to ...   \n",
       "\n",
       "  vote_count Unnamed: 8 Unnamed: 9 Unnamed: 10 Unnamed: 11 Unnamed: 12  \\\n",
       "0          0        NaN        NaN         NaN         NaN         NaN   \n",
       "1          0        NaN        NaN         NaN         NaN         NaN   \n",
       "2          0        NaN        NaN         NaN         NaN         NaN   \n",
       "3          1        NaN        NaN         NaN         NaN         NaN   \n",
       "\n",
       "  Unnamed: 13 Unnamed: 14  Unnamed: 15  \n",
       "0         NaN         NaN          NaN  \n",
       "1         NaN         NaN          NaN  \n",
       "2         NaN         NaN          NaN  \n",
       "3         NaN         NaN          NaN  "
      ]
     },
     "execution_count": 21,
     "metadata": {},
     "output_type": "execute_result"
    }
   ],
   "source": [
    "ehar.head(4)"
   ]
  },
  {
   "cell_type": "code",
   "execution_count": 22,
   "metadata": {},
   "outputs": [],
   "source": [
    "import matplotlib.pyplot as plot\n",
    "ehar[\"Rating\"]=pd.to_numeric(ehar[\"rating\"])"
   ]
  },
  {
   "cell_type": "code",
   "execution_count": 23,
   "metadata": {},
   "outputs": [
    {
     "data": {
      "text/plain": [
       "<matplotlib.axes._subplots.AxesSubplot at 0x2121528ee88>"
      ]
     },
     "execution_count": 23,
     "metadata": {},
     "output_type": "execute_result"
    },
    {
     "data": {
      "image/png": "[encoded data removed]",
      "text/plain": [
       "<Figure size 432x288 with 1 Axes>"
      ]
     },
     "metadata": {
      "needs_background": "light"
     },
     "output_type": "display_data"
    }
   ],
   "source": [
    "ehar[\"Rating\"].plot.hist()"
   ]
  },
  {
   "cell_type": "code",
   "execution_count": 25,
   "metadata": {},
   "outputs": [
    {
     "data": {
      "text/html": [
       "<div>\n",
       "<style scoped>\n",
       "    .dataframe tbody tr th:only-of-type {\n",
       "        vertical-align: middle;\n",
       "    }\n",
       "\n",
       "    .dataframe tbody tr th {\n",
       "        vertical-align: top;\n",
       "    }\n",
       "\n",
       "    .dataframe thead th {\n",
       "        text-align: right;\n",
       "    }\n",
       "</style>\n",
       "<table border=\"1\" class=\"dataframe\">\n",
       "  <thead>\n",
       "    <tr style=\"text-align: right;\">\n",
       "      <th></th>\n",
       "      <th>review_id</th>\n",
       "      <th>title</th>\n",
       "      <th>author</th>\n",
       "      <th>author_url</th>\n",
       "      <th>version</th>\n",
       "      <th>rating</th>\n",
       "      <th>review</th>\n",
       "      <th>vote_count</th>\n",
       "      <th>Unnamed: 8</th>\n",
       "      <th>Unnamed: 9</th>\n",
       "      <th>Unnamed: 10</th>\n",
       "      <th>Unnamed: 11</th>\n",
       "    </tr>\n",
       "  </thead>\n",
       "  <tbody>\n",
       "    <tr>\n",
       "      <td>0</td>\n",
       "      <td>5146991952</td>\n",
       "      <td>Banned</td>\n",
       "      <td>Azuzin</td>\n",
       "      <td>https://itunes.apple.com/us/reviews/id750052002</td>\n",
       "      <td>7.9.1</td>\n",
       "      <td>1</td>\n",
       "      <td>No reason at all. I didn?t even do anything.</td>\n",
       "      <td>0</td>\n",
       "      <td>NaN</td>\n",
       "      <td>NaN</td>\n",
       "      <td>NaN</td>\n",
       "      <td>NaN</td>\n",
       "    </tr>\n",
       "    <tr>\n",
       "      <td>1</td>\n",
       "      <td>5146809956</td>\n",
       "      <td>Good if you don?t have standards</td>\n",
       "      <td>Guywithshortdreads</td>\n",
       "      <td>https://itunes.apple.com/us/reviews/id1014766561</td>\n",
       "      <td>7.9.1</td>\n",
       "      <td>3</td>\n",
       "      <td>The app is populated and you?ll for sure find...</td>\n",
       "      <td>0</td>\n",
       "      <td>NaN</td>\n",
       "      <td>NaN</td>\n",
       "      <td>NaN</td>\n",
       "      <td>NaN</td>\n",
       "    </tr>\n",
       "    <tr>\n",
       "      <td>2</td>\n",
       "      <td>5146780670</td>\n",
       "      <td>Unable to access app</td>\n",
       "      <td>vindi94</td>\n",
       "      <td>https://itunes.apple.com/us/reviews/id627617898</td>\n",
       "      <td>7.9.1</td>\n",
       "      <td>1</td>\n",
       "      <td>I got a message after signing up saying I was ...</td>\n",
       "      <td>0</td>\n",
       "      <td>NaN</td>\n",
       "      <td>NaN</td>\n",
       "      <td>NaN</td>\n",
       "      <td>NaN</td>\n",
       "    </tr>\n",
       "    <tr>\n",
       "      <td>3</td>\n",
       "      <td>5146242611</td>\n",
       "      <td>Catfish and profile preference.</td>\n",
       "      <td>AshBiller</td>\n",
       "      <td>https://itunes.apple.com/us/reviews/id32837540</td>\n",
       "      <td>7.9.1</td>\n",
       "      <td>1</td>\n",
       "      <td>THIS APP ISN'T SAFE! \\nHinge needs to put some...</td>\n",
       "      <td>0</td>\n",
       "      <td>NaN</td>\n",
       "      <td>NaN</td>\n",
       "      <td>NaN</td>\n",
       "      <td>NaN</td>\n",
       "    </tr>\n",
       "  </tbody>\n",
       "</table>\n",
       "</div>"
      ],
      "text/plain": [
       "    review_id                              title              author  \\\n",
       "0  5146991952                             Banned              Azuzin   \n",
       "1  5146809956  Good if you don?t have standards  Guywithshortdreads   \n",
       "2  5146780670               Unable to access app             vindi94   \n",
       "3  5146242611    Catfish and profile preference.           AshBiller   \n",
       "\n",
       "                                         author_url version  rating  \\\n",
       "0   https://itunes.apple.com/us/reviews/id750052002   7.9.1       1   \n",
       "1  https://itunes.apple.com/us/reviews/id1014766561   7.9.1       3   \n",
       "2   https://itunes.apple.com/us/reviews/id627617898   7.9.1       1   \n",
       "3    https://itunes.apple.com/us/reviews/id32837540   7.9.1       1   \n",
       "\n",
       "                                              review vote_count Unnamed: 8  \\\n",
       "0      No reason at all. I didn?t even do anything.          0        NaN   \n",
       "1  The app is populated and you?ll for sure find...          0        NaN   \n",
       "2  I got a message after signing up saying I was ...          0        NaN   \n",
       "3  THIS APP ISN'T SAFE! \\nHinge needs to put some...          0        NaN   \n",
       "\n",
       "  Unnamed: 9 Unnamed: 10  Unnamed: 11  \n",
       "0        NaN         NaN          NaN  \n",
       "1        NaN         NaN          NaN  \n",
       "2        NaN         NaN          NaN  \n",
       "3        NaN         NaN          NaN  "
      ]
     },
     "execution_count": 25,
     "metadata": {},
     "output_type": "execute_result"
    }
   ],
   "source": [
    "#Load data\n",
    "hinge=pd.read_csv('C:\\\\Users\\\\user\\\\Desktop\\\\hingereview.csv',encoding='latin1')\n",
    "#show a few lines\n",
    "hinge.head(4)"
   ]
  },
  {
   "cell_type": "code",
   "execution_count": 26,
   "metadata": {},
   "outputs": [
    {
     "data": {
      "text/plain": [
       "<matplotlib.axes._subplots.AxesSubplot at 0x21216a7c788>"
      ]
     },
     "execution_count": 26,
     "metadata": {},
     "output_type": "execute_result"
    },
    {
     "data": {
      "image/png": "[encoded data removed]",
      "text/plain": [
       "<Figure size 432x288 with 1 Axes>"
      ]
     },
     "metadata": {
      "needs_background": "light"
     },
     "output_type": "display_data"
    }
   ],
   "source": [
    "import matplotlib.pyplot as plot\n",
    "hinge[\"Rating\"]=pd.to_numeric(hinge[\"rating\"])\n",
    "hinge[\"Rating\"].plot.hist()"
   ]
  },
  {
   "cell_type": "code",
   "execution_count": 27,
   "metadata": {},
   "outputs": [
    {
     "data": {
      "text/html": [
       "<div>\n",
       "<style scoped>\n",
       "    .dataframe tbody tr th:only-of-type {\n",
       "        vertical-align: middle;\n",
       "    }\n",
       "\n",
       "    .dataframe tbody tr th {\n",
       "        vertical-align: top;\n",
       "    }\n",
       "\n",
       "    .dataframe thead th {\n",
       "        text-align: right;\n",
       "    }\n",
       "</style>\n",
       "<table border=\"1\" class=\"dataframe\">\n",
       "  <thead>\n",
       "    <tr style=\"text-align: right;\">\n",
       "      <th></th>\n",
       "      <th>review_id</th>\n",
       "      <th>title</th>\n",
       "      <th>author</th>\n",
       "      <th>author_url</th>\n",
       "      <th>version</th>\n",
       "      <th>rating</th>\n",
       "      <th>review</th>\n",
       "      <th>vote_count</th>\n",
       "      <th>Unnamed: 8</th>\n",
       "    </tr>\n",
       "  </thead>\n",
       "  <tbody>\n",
       "    <tr>\n",
       "      <td>0</td>\n",
       "      <td>5146485562</td>\n",
       "      <td>Shadowbans to make money</td>\n",
       "      <td>NextGenCode</td>\n",
       "      <td>https://itunes.apple.com/us/reviews/id86551969</td>\n",
       "      <td>11.3.0</td>\n",
       "      <td>1.0</td>\n",
       "      <td>Their ?algorithms??have been reduced to simpl...</td>\n",
       "      <td>0</td>\n",
       "      <td>NaN</td>\n",
       "    </tr>\n",
       "    <tr>\n",
       "      <td>1</td>\n",
       "      <td>5145741525</td>\n",
       "      <td>Scam</td>\n",
       "      <td>scam1224</td>\n",
       "      <td>https://itunes.apple.com/us/reviews/id155158027</td>\n",
       "      <td>11.3.0</td>\n",
       "      <td>1.0</td>\n",
       "      <td>Tinder makes it seem like tinder plus has some...</td>\n",
       "      <td>0</td>\n",
       "      <td>NaN</td>\n",
       "    </tr>\n",
       "    <tr>\n",
       "      <td>2</td>\n",
       "      <td>5145603548</td>\n",
       "      <td>New layout is just terrible</td>\n",
       "      <td>plsldmvnfnsoapxnfjed</td>\n",
       "      <td>https://itunes.apple.com/us/reviews/id183858912</td>\n",
       "      <td>11.3.0</td>\n",
       "      <td>1.0</td>\n",
       "      <td>I rarely write reviews but your new layout is ...</td>\n",
       "      <td>0</td>\n",
       "      <td>NaN</td>\n",
       "    </tr>\n",
       "    <tr>\n",
       "      <td>3</td>\n",
       "      <td>5145389973</td>\n",
       "      <td>Mediocre</td>\n",
       "      <td>spl3</td>\n",
       "      <td>https://itunes.apple.com/us/reviews/id115408268</td>\n",
       "      <td>11.3.0</td>\n",
       "      <td>1.0</td>\n",
       "      <td>Positives: seems to be more profiles to look t...</td>\n",
       "      <td>0</td>\n",
       "      <td>NaN</td>\n",
       "    </tr>\n",
       "  </tbody>\n",
       "</table>\n",
       "</div>"
      ],
      "text/plain": [
       "    review_id                        title                author  \\\n",
       "0  5146485562     Shadowbans to make money           NextGenCode   \n",
       "1  5145741525                         Scam              scam1224   \n",
       "2  5145603548  New layout is just terrible  plsldmvnfnsoapxnfjed   \n",
       "3  5145389973                     Mediocre                  spl3   \n",
       "\n",
       "                                        author_url version  rating  \\\n",
       "0   https://itunes.apple.com/us/reviews/id86551969  11.3.0     1.0   \n",
       "1  https://itunes.apple.com/us/reviews/id155158027  11.3.0     1.0   \n",
       "2  https://itunes.apple.com/us/reviews/id183858912  11.3.0     1.0   \n",
       "3  https://itunes.apple.com/us/reviews/id115408268  11.3.0     1.0   \n",
       "\n",
       "                                              review vote_count Unnamed: 8  \n",
       "0  Their ?algorithms??have been reduced to simpl...          0        NaN  \n",
       "1  Tinder makes it seem like tinder plus has some...          0        NaN  \n",
       "2  I rarely write reviews but your new layout is ...          0        NaN  \n",
       "3  Positives: seems to be more profiles to look t...          0        NaN  "
      ]
     },
     "execution_count": 27,
     "metadata": {},
     "output_type": "execute_result"
    }
   ],
   "source": [
    "import pandas as pd\n",
    "#Load data\n",
    "tinder=pd.read_csv('C:\\\\Users\\\\user\\\\Desktop\\\\tinderreview.csv',encoding='latin1')\n",
    "#show a few lines\n",
    "tinder.head(4)"
   ]
  },
  {
   "cell_type": "code",
   "execution_count": 28,
   "metadata": {},
   "outputs": [
    {
     "data": {
      "text/plain": [
       "<matplotlib.axes._subplots.AxesSubplot at 0x212171e5808>"
      ]
     },
     "execution_count": 28,
     "metadata": {},
     "output_type": "execute_result"
    },
    {
     "data": {
      "image/png": "[encoded data removed]",
      "text/plain": [
       "<Figure size 432x288 with 1 Axes>"
      ]
     },
     "metadata": {
      "needs_background": "light"
     },
     "output_type": "display_data"
    }
   ],
   "source": [
    "import matplotlib.pyplot as plot\n",
    "tinder[\"Rating\"]=pd.to_numeric(tinder[\"rating\"])\n",
    "tinder[\"Rating\"].plot.hist()"
   ]
  },
  {
   "cell_type": "code",
   "execution_count": 29,
   "metadata": {},
   "outputs": [
    {
     "data": {
      "text/html": [
       "<div>\n",
       "<style scoped>\n",
       "    .dataframe tbody tr th:only-of-type {\n",
       "        vertical-align: middle;\n",
       "    }\n",
       "\n",
       "    .dataframe tbody tr th {\n",
       "        vertical-align: top;\n",
       "    }\n",
       "\n",
       "    .dataframe thead th {\n",
       "        text-align: right;\n",
       "    }\n",
       "</style>\n",
       "<table border=\"1\" class=\"dataframe\">\n",
       "  <thead>\n",
       "    <tr style=\"text-align: right;\">\n",
       "      <th></th>\n",
       "      <th>review_id</th>\n",
       "      <th>title</th>\n",
       "      <th>author</th>\n",
       "      <th>author_url</th>\n",
       "      <th>version</th>\n",
       "      <th>rating</th>\n",
       "      <th>review</th>\n",
       "      <th>vote_count</th>\n",
       "      <th>Unnamed: 8</th>\n",
       "      <th>Unnamed: 9</th>\n",
       "      <th>Unnamed: 10</th>\n",
       "      <th>Unnamed: 11</th>\n",
       "      <th>Unnamed: 12</th>\n",
       "      <th>Unnamed: 13</th>\n",
       "    </tr>\n",
       "  </thead>\n",
       "  <tbody>\n",
       "    <tr>\n",
       "      <td>0</td>\n",
       "      <td>5144161422</td>\n",
       "      <td>Better Free Options</td>\n",
       "      <td>stulaw11</td>\n",
       "      <td>https://itunes.apple.com/us/reviews/id109759259</td>\n",
       "      <td>6.21.0</td>\n",
       "      <td>1</td>\n",
       "      <td>UPDATED. PUHlease developer, this is a cash gr...</td>\n",
       "      <td>0</td>\n",
       "      <td>NaN</td>\n",
       "      <td>NaN</td>\n",
       "      <td>NaN</td>\n",
       "      <td>NaN</td>\n",
       "      <td>NaN</td>\n",
       "      <td>NaN</td>\n",
       "    </tr>\n",
       "    <tr>\n",
       "      <td>1</td>\n",
       "      <td>5140072355</td>\n",
       "      <td>Highly recommend coffee meets bagel</td>\n",
       "      <td>carmelmacc</td>\n",
       "      <td>https://itunes.apple.com/us/reviews/id1065613415</td>\n",
       "      <td>6.21.0</td>\n",
       "      <td>5</td>\n",
       "      <td>Coffee meets bagel was my first online dating ...</td>\n",
       "      <td>1</td>\n",
       "      <td>NaN</td>\n",
       "      <td>NaN</td>\n",
       "      <td>NaN</td>\n",
       "      <td>NaN</td>\n",
       "      <td>NaN</td>\n",
       "      <td>NaN</td>\n",
       "    </tr>\n",
       "    <tr>\n",
       "      <td>2</td>\n",
       "      <td>5139604783</td>\n",
       "      <td>Not for African Americans</td>\n",
       "      <td>Sweetness Deeness</td>\n",
       "      <td>https://itunes.apple.com/us/reviews/id191594311</td>\n",
       "      <td>6.21.0</td>\n",
       "      <td>1</td>\n",
       "      <td>I have tried this app twice now.  Complete was...</td>\n",
       "      <td>0</td>\n",
       "      <td>NaN</td>\n",
       "      <td>NaN</td>\n",
       "      <td>NaN</td>\n",
       "      <td>NaN</td>\n",
       "      <td>NaN</td>\n",
       "      <td>NaN</td>\n",
       "    </tr>\n",
       "    <tr>\n",
       "      <td>3</td>\n",
       "      <td>5138739162</td>\n",
       "      <td>In-app purchases</td>\n",
       "      <td>val_ium</td>\n",
       "      <td>https://itunes.apple.com/us/reviews/id453331241</td>\n",
       "      <td>6.21.0</td>\n",
       "      <td>1</td>\n",
       "      <td>Way too many restrictions. It?s a money grabb...</td>\n",
       "      <td>1</td>\n",
       "      <td>NaN</td>\n",
       "      <td>NaN</td>\n",
       "      <td>NaN</td>\n",
       "      <td>NaN</td>\n",
       "      <td>NaN</td>\n",
       "      <td>NaN</td>\n",
       "    </tr>\n",
       "  </tbody>\n",
       "</table>\n",
       "</div>"
      ],
      "text/plain": [
       "    review_id                                title             author  \\\n",
       "0  5144161422                  Better Free Options           stulaw11   \n",
       "1  5140072355  Highly recommend coffee meets bagel         carmelmacc   \n",
       "2  5139604783            Not for African Americans  Sweetness Deeness   \n",
       "3  5138739162                     In-app purchases            val_ium   \n",
       "\n",
       "                                         author_url version  rating  \\\n",
       "0   https://itunes.apple.com/us/reviews/id109759259  6.21.0       1   \n",
       "1  https://itunes.apple.com/us/reviews/id1065613415  6.21.0       5   \n",
       "2   https://itunes.apple.com/us/reviews/id191594311  6.21.0       1   \n",
       "3   https://itunes.apple.com/us/reviews/id453331241  6.21.0       1   \n",
       "\n",
       "                                              review vote_count Unnamed: 8  \\\n",
       "0  UPDATED. PUHlease developer, this is a cash gr...          0        NaN   \n",
       "1  Coffee meets bagel was my first online dating ...          1        NaN   \n",
       "2  I have tried this app twice now.  Complete was...          0        NaN   \n",
       "3  Way too many restrictions. It?s a money grabb...          1        NaN   \n",
       "\n",
       "  Unnamed: 9 Unnamed: 10  Unnamed: 11 Unnamed: 12  Unnamed: 13  \n",
       "0        NaN         NaN          NaN         NaN          NaN  \n",
       "1        NaN         NaN          NaN         NaN          NaN  \n",
       "2        NaN         NaN          NaN         NaN          NaN  \n",
       "3        NaN         NaN          NaN         NaN          NaN  "
      ]
     },
     "execution_count": 29,
     "metadata": {},
     "output_type": "execute_result"
    }
   ],
   "source": [
    "import pandas as pd\n",
    "#Load data\n",
    "cmb=pd.read_csv('C:\\\\Users\\\\user\\\\Desktop\\\\cmbreview.csv',encoding='latin1')\n",
    "#show a few lines\n",
    "cmb.head(4)"
   ]
  },
  {
   "cell_type": "code",
   "execution_count": 30,
   "metadata": {},
   "outputs": [
    {
     "data": {
      "text/plain": [
       "<matplotlib.axes._subplots.AxesSubplot at 0x21216c1f188>"
      ]
     },
     "execution_count": 30,
     "metadata": {},
     "output_type": "execute_result"
    },
    {
     "data": {
      "image/png": "[encoded data removed]",
      "text/plain": [
       "<Figure size 432x288 with 1 Axes>"
      ]
     },
     "metadata": {
      "needs_background": "light"
     },
     "output_type": "display_data"
    }
   ],
   "source": [
    "import matplotlib.pyplot as plot\n",
    "cmb[\"Rating\"]=pd.to_numeric(cmb[\"rating\"])\n",
    "cmb[\"Rating\"].plot.hist()"
   ]
  },
  {
   "cell_type": "code",
   "execution_count": 31,
   "metadata": {},
   "outputs": [
    {
     "data": {
      "text/html": [
       "<div>\n",
       "<style scoped>\n",
       "    .dataframe tbody tr th:only-of-type {\n",
       "        vertical-align: middle;\n",
       "    }\n",
       "\n",
       "    .dataframe tbody tr th {\n",
       "        vertical-align: top;\n",
       "    }\n",
       "\n",
       "    .dataframe thead th {\n",
       "        text-align: right;\n",
       "    }\n",
       "</style>\n",
       "<table border=\"1\" class=\"dataframe\">\n",
       "  <thead>\n",
       "    <tr style=\"text-align: right;\">\n",
       "      <th></th>\n",
       "      <th>review_id</th>\n",
       "      <th>title</th>\n",
       "      <th>author</th>\n",
       "      <th>author_url</th>\n",
       "      <th>version</th>\n",
       "      <th>rating</th>\n",
       "      <th>review</th>\n",
       "      <th>vote_count</th>\n",
       "      <th>Unnamed: 8</th>\n",
       "    </tr>\n",
       "  </thead>\n",
       "  <tbody>\n",
       "    <tr>\n",
       "      <td>0</td>\n",
       "      <td>5147101983</td>\n",
       "      <td>Irakli</td>\n",
       "      <td>Kashmir9024</td>\n",
       "      <td>https://itunes.apple.com/us/reviews/id890284778</td>\n",
       "      <td>5.139.0</td>\n",
       "      <td>5.0</td>\n",
       "      <td>?¤ï??¤ï??¤ï?</td>\n",
       "      <td>0</td>\n",
       "      <td>NaN</td>\n",
       "    </tr>\n",
       "    <tr>\n",
       "      <td>1</td>\n",
       "      <td>5147005518</td>\n",
       "      <td>Good</td>\n",
       "      <td>d.rorro</td>\n",
       "      <td>https://itunes.apple.com/us/reviews/id1097727744</td>\n",
       "      <td>5.139.0</td>\n",
       "      <td>5.0</td>\n",
       "      <td>Good</td>\n",
       "      <td>0</td>\n",
       "      <td>NaN</td>\n",
       "    </tr>\n",
       "    <tr>\n",
       "      <td>2</td>\n",
       "      <td>5146933464</td>\n",
       "      <td>Wahidiigff</td>\n",
       "      <td>wahidoooohhg</td>\n",
       "      <td>https://itunes.apple.com/us/reviews/id930155822</td>\n",
       "      <td>5.139.0</td>\n",
       "      <td>5.0</td>\n",
       "      <td>Bieen</td>\n",
       "      <td>0</td>\n",
       "      <td>NaN</td>\n",
       "    </tr>\n",
       "    <tr>\n",
       "      <td>3</td>\n",
       "      <td>5146868919</td>\n",
       "      <td>The best</td>\n",
       "      <td>jose@38</td>\n",
       "      <td>https://itunes.apple.com/us/reviews/id986627709</td>\n",
       "      <td>5.139.0</td>\n",
       "      <td>5.0</td>\n",
       "      <td>This is the best</td>\n",
       "      <td>0</td>\n",
       "      <td>NaN</td>\n",
       "    </tr>\n",
       "  </tbody>\n",
       "</table>\n",
       "</div>"
      ],
      "text/plain": [
       "    review_id       title        author  \\\n",
       "0  5147101983      Irakli   Kashmir9024   \n",
       "1  5147005518        Good       d.rorro   \n",
       "2  5146933464  Wahidiigff  wahidoooohhg   \n",
       "3  5146868919    The best       jose@38   \n",
       "\n",
       "                                         author_url  version  rating  \\\n",
       "0   https://itunes.apple.com/us/reviews/id890284778  5.139.0     5.0   \n",
       "1  https://itunes.apple.com/us/reviews/id1097727744  5.139.0     5.0   \n",
       "2   https://itunes.apple.com/us/reviews/id930155822  5.139.0     5.0   \n",
       "3   https://itunes.apple.com/us/reviews/id986627709  5.139.0     5.0   \n",
       "\n",
       "             review vote_count  Unnamed: 8  \n",
       "0      ?¤ï??¤ï??¤ï?          0         NaN  \n",
       "1              Good          0         NaN  \n",
       "2             Bieen          0         NaN  \n",
       "3  This is the best          0         NaN  "
      ]
     },
     "execution_count": 31,
     "metadata": {},
     "output_type": "execute_result"
    }
   ],
   "source": [
    "#Load data\n",
    "badoo=pd.read_csv('C:\\\\Users\\\\user\\\\Desktop\\\\badooreview.csv',encoding='latin1')\n",
    "#show a few lines\n",
    "badoo.head(4)"
   ]
  },
  {
   "cell_type": "code",
   "execution_count": 32,
   "metadata": {},
   "outputs": [
    {
     "data": {
      "text/plain": [
       "<matplotlib.axes._subplots.AxesSubplot at 0x21216c28408>"
      ]
     },
     "execution_count": 32,
     "metadata": {},
     "output_type": "execute_result"
    },
    {
     "data": {
      "image/png": "[encoded data removed]",
      "text/plain": [
       "<Figure size 432x288 with 1 Axes>"
      ]
     },
     "metadata": {
      "needs_background": "light"
     },
     "output_type": "display_data"
    }
   ],
   "source": [
    "import matplotlib.pyplot as plot\n",
    "badoo[\"Rating\"]=pd.to_numeric(badoo[\"rating\"])\n",
    "badoo[\"Rating\"].plot.hist()"
   ]
  },
  {
   "cell_type": "code",
   "execution_count": null,
   "metadata": {},
   "outputs": [],
   "source": []
  }
 ],
 "metadata": {
  "kernelspec": {
   "display_name": "Python 3",
   "language": "python",
   "name": "python3"
  },
  "language_info": {
   "codemirror_mode": {
    "name": "ipython",
    "version": 3
   },
   "file_extension": ".py",
   "mimetype": "text/x-python",
   "name": "python",
   "nbconvert_exporter": "python",
   "pygments_lexer": "ipython3",
   "version": "3.7.4"
  }
 },
 "nbformat": 4,
 "nbformat_minor": 2
}
